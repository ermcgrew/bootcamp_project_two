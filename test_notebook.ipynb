{
 "cells": [
  {
   "cell_type": "code",
   "execution_count": 2,
   "id": "35349b7a",
   "metadata": {},
   "outputs": [
    {
     "ename": "ModuleNotFoundError",
     "evalue": "No module named 'config'",
     "output_type": "error",
     "traceback": [
      "\u001b[1;31m---------------------------------------------------------------------------\u001b[0m",
      "\u001b[1;31mModuleNotFoundError\u001b[0m                       Traceback (most recent call last)",
      "\u001b[1;32m~\\AppData\\Local\\Temp/ipykernel_34732/2905402851.py\u001b[0m in \u001b[0;36m<module>\u001b[1;34m\u001b[0m\n\u001b[0;32m      3\u001b[0m \u001b[1;32mimport\u001b[0m \u001b[0mpandas\u001b[0m \u001b[1;32mas\u001b[0m \u001b[0mpd\u001b[0m\u001b[1;33m\u001b[0m\u001b[1;33m\u001b[0m\u001b[0m\n\u001b[0;32m      4\u001b[0m \u001b[1;32mfrom\u001b[0m \u001b[0mspotipy\u001b[0m\u001b[1;33m.\u001b[0m\u001b[0moauth2\u001b[0m \u001b[1;32mimport\u001b[0m \u001b[0mSpotifyClientCredentials\u001b[0m\u001b[1;33m\u001b[0m\u001b[1;33m\u001b[0m\u001b[0m\n\u001b[1;32m----> 5\u001b[1;33m \u001b[1;32mfrom\u001b[0m \u001b[0mconfig\u001b[0m \u001b[1;32mimport\u001b[0m \u001b[0mclient_id\u001b[0m\u001b[1;33m,\u001b[0m \u001b[0mclient_secret\u001b[0m\u001b[1;33m\u001b[0m\u001b[1;33m\u001b[0m\u001b[0m\n\u001b[0m",
      "\u001b[1;31mModuleNotFoundError\u001b[0m: No module named 'config'"
     ]
    }
   ],
   "source": [
    "import json\n",
    "import spotipy\n",
    "import pandas as pd\n",
    "from spotipy.oauth2 import SpotifyClientCredentials\n",
    "from config import client_id, client_secret"
   ]
  },
  {
   "cell_type": "code",
   "execution_count": 3,
   "id": "c692c2a6",
   "metadata": {},
   "outputs": [
    {
     "ename": "NameError",
     "evalue": "name 'client_id' is not defined",
     "output_type": "error",
     "traceback": [
      "\u001b[1;31m---------------------------------------------------------------------------\u001b[0m",
      "\u001b[1;31mNameError\u001b[0m                                 Traceback (most recent call last)",
      "\u001b[1;32m~\\AppData\\Local\\Temp/ipykernel_34732/1510689205.py\u001b[0m in \u001b[0;36m<module>\u001b[1;34m\u001b[0m\n\u001b[1;32m----> 1\u001b[1;33m \u001b[0mclient_credentials_manager\u001b[0m \u001b[1;33m=\u001b[0m \u001b[0mSpotifyClientCredentials\u001b[0m\u001b[1;33m(\u001b[0m\u001b[0mclient_id\u001b[0m\u001b[1;33m,\u001b[0m \u001b[0mclient_secret\u001b[0m\u001b[1;33m)\u001b[0m\u001b[1;33m\u001b[0m\u001b[1;33m\u001b[0m\u001b[0m\n\u001b[0m\u001b[0;32m      2\u001b[0m \u001b[0msp\u001b[0m \u001b[1;33m=\u001b[0m \u001b[0mspotipy\u001b[0m\u001b[1;33m.\u001b[0m\u001b[0mSpotify\u001b[0m\u001b[1;33m(\u001b[0m\u001b[0mclient_credentials_manager\u001b[0m\u001b[1;33m=\u001b[0m\u001b[0mclient_credentials_manager\u001b[0m\u001b[1;33m)\u001b[0m\u001b[1;33m\u001b[0m\u001b[1;33m\u001b[0m\u001b[0m\n",
      "\u001b[1;31mNameError\u001b[0m: name 'client_id' is not defined"
     ]
    }
   ],
   "source": [
    "client_credentials_manager = SpotifyClientCredentials(client_id, client_secret)\n",
    "sp = spotipy.Spotify(client_credentials_manager=client_credentials_manager)"
   ]
  },
  {
   "cell_type": "code",
   "execution_count": 3,
   "id": "77296de8",
   "metadata": {},
   "outputs": [
    {
     "name": "stdout",
     "output_type": "stream",
     "text": [
      "worked\n"
     ]
    }
   ],
   "source": [
    "playlist_id='spotify:playlist:5SUX5lm1ZfmIrhMOAdE8C2' #insert your playlist id\n",
    "results = sp.playlist(playlist_id)\n",
    "if results:\n",
    "    print('worked')"
   ]
  },
  {
   "cell_type": "code",
   "execution_count": 4,
   "id": "52054685",
   "metadata": {},
   "outputs": [],
   "source": [
    "# create a list of song ids\n",
    "ids=[]\n",
    "\n",
    "for item in results['tracks']['items']:\n",
    "        track = item['track']['id']\n",
    "        ids.append(track)"
   ]
  },
  {
   "cell_type": "code",
   "execution_count": 5,
   "id": "e159bad2",
   "metadata": {},
   "outputs": [],
   "source": [
    "song_meta={'id':[],'album':[], 'name':[], \n",
    "           'artist':[],'explicit':[],'popularity':[]}"
   ]
  },
  {
   "cell_type": "code",
   "execution_count": 6,
   "id": "165b3f86",
   "metadata": {},
   "outputs": [],
   "source": [
    "for song_id in ids:\n",
    "    # get song's meta data\n",
    "    meta = sp.track(song_id)\n",
    "    \n",
    "    # song id\n",
    "    song_meta['id'].append(song_id)\n",
    "\n",
    "    # album name\n",
    "    album=meta['album']['name']\n",
    "    song_meta['album']+=[album]\n",
    "\n",
    "    # song name\n",
    "    song=meta['name']\n",
    "    song_meta['name']+=[song]\n",
    "    \n",
    "    # artists name\n",
    "    s = ', '\n",
    "    artist=s.join([singer_name['name'] for singer_name in meta['artists']])\n",
    "    song_meta['artist']+=[artist]\n",
    "    \n",
    "    # explicit: lyrics could be considered offensive or unsuitable for children\n",
    "    explicit=meta['explicit']\n",
    "    song_meta['explicit'].append(explicit)\n",
    "    \n",
    "    # song popularity\n",
    "    popularity=meta['popularity']\n",
    "    song_meta['popularity'].append(popularity)\n",
    "\n",
    "song_meta_df=pd.DataFrame.from_dict(song_meta)"
   ]
  },
  {
   "cell_type": "code",
   "execution_count": 7,
   "id": "bc62a83f",
   "metadata": {},
   "outputs": [
    {
     "data": {
      "text/html": [
       "<div>\n",
       "<style scoped>\n",
       "    .dataframe tbody tr th:only-of-type {\n",
       "        vertical-align: middle;\n",
       "    }\n",
       "\n",
       "    .dataframe tbody tr th {\n",
       "        vertical-align: top;\n",
       "    }\n",
       "\n",
       "    .dataframe thead th {\n",
       "        text-align: right;\n",
       "    }\n",
       "</style>\n",
       "<table border=\"1\" class=\"dataframe\">\n",
       "  <thead>\n",
       "    <tr style=\"text-align: right;\">\n",
       "      <th></th>\n",
       "      <th>id</th>\n",
       "      <th>album</th>\n",
       "      <th>name</th>\n",
       "      <th>artist</th>\n",
       "      <th>explicit</th>\n",
       "      <th>popularity</th>\n",
       "    </tr>\n",
       "  </thead>\n",
       "  <tbody>\n",
       "    <tr>\n",
       "      <th>0</th>\n",
       "      <td>0AvuvLpjF912cKj88MX7AS</td>\n",
       "      <td>Straight Life (CTI Records 40th Anniversary Ed...</td>\n",
       "      <td>Straight Life</td>\n",
       "      <td>Freddie Hubbard</td>\n",
       "      <td>False</td>\n",
       "      <td>11</td>\n",
       "    </tr>\n",
       "    <tr>\n",
       "      <th>1</th>\n",
       "      <td>4ZWojS2l1H2teFLrWq3zyJ</td>\n",
       "      <td>Straight Life (CTI Records 40th Anniversary Ed...</td>\n",
       "      <td>Mr. Clean</td>\n",
       "      <td>Freddie Hubbard</td>\n",
       "      <td>False</td>\n",
       "      <td>13</td>\n",
       "    </tr>\n",
       "    <tr>\n",
       "      <th>2</th>\n",
       "      <td>2C2OlVw546IK1a47pW2nES</td>\n",
       "      <td>Straight Life (CTI Records 40th Anniversary Ed...</td>\n",
       "      <td>Here's That Rainy Day</td>\n",
       "      <td>Freddie Hubbard</td>\n",
       "      <td>False</td>\n",
       "      <td>9</td>\n",
       "    </tr>\n",
       "    <tr>\n",
       "      <th>3</th>\n",
       "      <td>1sVytlU6dIAsqTh7nvvYDN</td>\n",
       "      <td>Mwandishi</td>\n",
       "      <td>Ostinato - Suite for Angela</td>\n",
       "      <td>Herbie Hancock</td>\n",
       "      <td>False</td>\n",
       "      <td>24</td>\n",
       "    </tr>\n",
       "    <tr>\n",
       "      <th>4</th>\n",
       "      <td>1Aix42Q7mxGLMDglHhIOg3</td>\n",
       "      <td>Thrust</td>\n",
       "      <td>Actual Proof</td>\n",
       "      <td>Herbie Hancock</td>\n",
       "      <td>False</td>\n",
       "      <td>36</td>\n",
       "    </tr>\n",
       "    <tr>\n",
       "      <th>...</th>\n",
       "      <td>...</td>\n",
       "      <td>...</td>\n",
       "      <td>...</td>\n",
       "      <td>...</td>\n",
       "      <td>...</td>\n",
       "      <td>...</td>\n",
       "    </tr>\n",
       "    <tr>\n",
       "      <th>59</th>\n",
       "      <td>36nWEcjwsB7u3yKvLJpYhJ</td>\n",
       "      <td>Lite Me Up</td>\n",
       "      <td>Paradise</td>\n",
       "      <td>Herbie Hancock</td>\n",
       "      <td>False</td>\n",
       "      <td>25</td>\n",
       "    </tr>\n",
       "    <tr>\n",
       "      <th>60</th>\n",
       "      <td>58ZSbMaA6JwWVIov6S8S0g</td>\n",
       "      <td>Lite Me Up</td>\n",
       "      <td>Can't Hide Your Love</td>\n",
       "      <td>Herbie Hancock</td>\n",
       "      <td>False</td>\n",
       "      <td>18</td>\n",
       "    </tr>\n",
       "    <tr>\n",
       "      <th>61</th>\n",
       "      <td>54SxPfgduRxJEOQ3NrgbMm</td>\n",
       "      <td>Lite Me Up</td>\n",
       "      <td>The Fun Tracks</td>\n",
       "      <td>Herbie Hancock</td>\n",
       "      <td>False</td>\n",
       "      <td>15</td>\n",
       "    </tr>\n",
       "    <tr>\n",
       "      <th>62</th>\n",
       "      <td>5o52ef5vqoDQ2BQz8BEVWP</td>\n",
       "      <td>Lite Me Up</td>\n",
       "      <td>Motor Mouth</td>\n",
       "      <td>Herbie Hancock</td>\n",
       "      <td>False</td>\n",
       "      <td>25</td>\n",
       "    </tr>\n",
       "    <tr>\n",
       "      <th>63</th>\n",
       "      <td>1XQMTmRJKK5f8edvdfjhLK</td>\n",
       "      <td>Lite Me Up</td>\n",
       "      <td>Give It All Your Heart</td>\n",
       "      <td>Herbie Hancock</td>\n",
       "      <td>False</td>\n",
       "      <td>19</td>\n",
       "    </tr>\n",
       "  </tbody>\n",
       "</table>\n",
       "<p>64 rows × 6 columns</p>\n",
       "</div>"
      ],
      "text/plain": [
       "                        id                                              album  \\\n",
       "0   0AvuvLpjF912cKj88MX7AS  Straight Life (CTI Records 40th Anniversary Ed...   \n",
       "1   4ZWojS2l1H2teFLrWq3zyJ  Straight Life (CTI Records 40th Anniversary Ed...   \n",
       "2   2C2OlVw546IK1a47pW2nES  Straight Life (CTI Records 40th Anniversary Ed...   \n",
       "3   1sVytlU6dIAsqTh7nvvYDN                                          Mwandishi   \n",
       "4   1Aix42Q7mxGLMDglHhIOg3                                             Thrust   \n",
       "..                     ...                                                ...   \n",
       "59  36nWEcjwsB7u3yKvLJpYhJ                                         Lite Me Up   \n",
       "60  58ZSbMaA6JwWVIov6S8S0g                                         Lite Me Up   \n",
       "61  54SxPfgduRxJEOQ3NrgbMm                                         Lite Me Up   \n",
       "62  5o52ef5vqoDQ2BQz8BEVWP                                         Lite Me Up   \n",
       "63  1XQMTmRJKK5f8edvdfjhLK                                         Lite Me Up   \n",
       "\n",
       "                           name           artist  explicit  popularity  \n",
       "0                 Straight Life  Freddie Hubbard     False          11  \n",
       "1                     Mr. Clean  Freddie Hubbard     False          13  \n",
       "2         Here's That Rainy Day  Freddie Hubbard     False           9  \n",
       "3   Ostinato - Suite for Angela   Herbie Hancock     False          24  \n",
       "4                  Actual Proof   Herbie Hancock     False          36  \n",
       "..                          ...              ...       ...         ...  \n",
       "59                     Paradise   Herbie Hancock     False          25  \n",
       "60         Can't Hide Your Love   Herbie Hancock     False          18  \n",
       "61               The Fun Tracks   Herbie Hancock     False          15  \n",
       "62                  Motor Mouth   Herbie Hancock     False          25  \n",
       "63       Give It All Your Heart   Herbie Hancock     False          19  \n",
       "\n",
       "[64 rows x 6 columns]"
      ]
     },
     "execution_count": 7,
     "metadata": {},
     "output_type": "execute_result"
    }
   ],
   "source": [
    "song_meta_df"
   ]
  },
  {
   "cell_type": "code",
   "execution_count": null,
   "id": "de7b2fe7",
   "metadata": {},
   "outputs": [],
   "source": []
  },
  {
   "cell_type": "code",
   "execution_count": null,
   "id": "84f3088f",
   "metadata": {},
   "outputs": [],
   "source": []
  },
  {
   "cell_type": "code",
   "execution_count": null,
   "id": "1cb287cd",
   "metadata": {},
   "outputs": [],
   "source": [
    "# check the song feature\n",
    "features = sp.audio_features(song_meta['id'])\n",
    "# change dictionary to dataframe\n",
    "features_df=pd.DataFrame.from_dict(features)\n",
    "\n",
    "# convert milliseconds to mins\n",
    "# duration_ms: The duration of the track in milliseconds.\n",
    "# 1 minute = 60 seconds = 60 × 1000 milliseconds = 60,000 ms\n",
    "features_df['duration_ms']=features_df['duration_ms']/60000\n",
    "\n",
    "# combine two dataframe\n",
    "final_df=song_meta_df.merge(features_df)"
   ]
  }
 ],
 "metadata": {
  "kernelspec": {
   "display_name": "Python [conda env:PythonData] *",
   "language": "python",
   "name": "conda-env-PythonData-py"
  },
  "language_info": {
   "codemirror_mode": {
    "name": "ipython",
    "version": 3
   },
   "file_extension": ".py",
   "mimetype": "text/x-python",
   "name": "python",
   "nbconvert_exporter": "python",
   "pygments_lexer": "ipython3",
   "version": "3.8.11"
  }
 },
 "nbformat": 4,
 "nbformat_minor": 5
}
